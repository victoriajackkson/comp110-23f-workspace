{
 "cells": [
  {
   "cell_type": "code",
   "execution_count": null,
   "metadata": {},
   "outputs": [],
   "source": [
    "# Write a function called free_biscuits\n",
    "# Given a dictionary with str keys (representing basketball games)\n",
    "\n",
    "\n",
    "\n",
    "\n",
    "\n",
    "def free_biscuits(input: dict[str, list[int]])-> dict[str, bool]:\n",
    "    \"\"\"doc string.\"\"\"\n",
    "    result: dict[str, bool] = {}\n",
    "    # loop over each key in my input dictionary\n",
    "    for key in input:\n",
    "        # for each element of the dictionary, sum up its values\n",
    "        list_to_sum: list[int] = input[key]\n",
    "        sum: int = 0\n",
    "        # loop through list and add each value to sum\n",
    "        for element in list_to_sum:\n",
    "            sum += element\n",
    "        # if sum >= 100, store in result under \"key\" with value True\n",
    "        if sum >= 100:\n",
    "            result[key] = True\n",
    "        else:\n",
    "            \n",
    "\n",
    "        "
   ]
  },
  {
   "cell_type": "code",
   "execution_count": null,
   "metadata": {},
   "outputs": [],
   "source": []
  }
 ],
 "metadata": {
  "language_info": {
   "name": "python"
  }
 },
 "nbformat": 4,
 "nbformat_minor": 2
}
